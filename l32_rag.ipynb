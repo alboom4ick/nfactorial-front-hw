{
  "cells": [
    {
      "cell_type": "markdown",
      "metadata": {
        "id": "cHrNqJzQeMGv"
      },
      "source": [
        "# L32 - Retrieval Augmented Generation (RAG)"
      ]
    },
    {
      "cell_type": "markdown",
      "metadata": {
        "id": "HQdjFLXaeMGv"
      },
      "source": [
        "![image_description](Retrieval%20Augmented%20Generation%20Design%20Pattern.webp)"
      ]
    },
    {
      "cell_type": "markdown",
      "metadata": {
        "id": "ZuC16Y9QeMGv"
      },
      "source": [
        "# Naive implementation"
      ]
    },
    {
      "cell_type": "code",
      "execution_count": null,
      "metadata": {
        "id": "Sro7CIlpeMGw"
      },
      "outputs": [],
      "source": [
        "import os\n",
        "from openai import OpenAI\n",
        "from dotenv import load_dotenv\n",
        "\n",
        "load_dotenv()\n",
        "\n",
        "openai_client = OpenAI(api_key='')"
      ]
    },
    {
      "cell_type": "code",
      "execution_count": 3,
      "metadata": {
        "id": "p60aEAxleMGw"
      },
      "outputs": [],
      "source": [
        "import numpy as np\n",
        "\n",
        "from typing import List, Dict\n",
        "import pickle"
      ]
    },
    {
      "cell_type": "code",
      "execution_count": 69,
      "metadata": {
        "id": "FGSBvFA-eMGw"
      },
      "outputs": [],
      "source": [
        "documents = [\n",
        "    \"OpenAI was founded in 2015. Its mission is to ensure artificial intelligence benefits all of humanity.\",\n",
        "    \"GPT-4 was released in 2023. It shows improved capabilities in reasoning and creative tasks.\",\n",
        "    \"Claude is an AI assistant created by Anthropic, known for its helpful and honest responses and amazing performance for coding tasks.\",\n",
        "    \"Witcher 3 is a game about a monster hunter named Geralt of Rivia. It was released in 2015.\",\n",
        "    \"Witcher 4 is new game in the series where Ciri is the main character. It is expected to be released in 2025.\",\n",
        "    \"Real Madrid is the best football club in the world. The club won 14 Champions League titles and main stadium is called Santiago Bernabeu, located Avenida de Concha Espina, 1. You can get there by metro line 10, station is Santiago Bernabeu.\",\n",
        "    \"Astana is the capital of Kazakhstan. It is located in the north-central part of the country, on the Ishim River. Other names of the city are Nur-Sultan and Akmola.\",\n",
        "    \"Adilet is the mentor at Outpeer, he is born in March 30, 1993 in Astana. He currently lives in Madrid, Spain.\",\n",
        "    \"Alibek is a student at SDU university and recently finished his bachelors first year study. He currently lives in almaty\",\n",
        "    \"Kairat arena is a stadium located in Almaty\",\n",
        "    \"Alibek likes to play games\"\n",
        "]"
      ]
    },
    {
      "cell_type": "code",
      "execution_count": 70,
      "metadata": {
        "id": "P_cGdIDmeMGx"
      },
      "outputs": [],
      "source": [
        "def get_embedding(text: str) -> List[float]:\n",
        "    \"\"\"Get embedding for a text using OpenAI's embedding model.\"\"\"\n",
        "    response = openai_client.embeddings.create(\n",
        "        model=\"text-embedding-3-small\", # 1536 dimensions\n",
        "        input=text\n",
        "    )\n",
        "    return response.data[0].embedding\n",
        "\n",
        "def cosine_similarity(a: List[float], b: List[float]) -> float:\n",
        "    \"\"\"Calculate cosine similarity between two vectors.\"\"\"\n",
        "    return np.dot(a, b) / (np.linalg.norm(a) * np.linalg.norm(b))\n"
      ]
    },
    {
      "cell_type": "code",
      "execution_count": 71,
      "metadata": {
        "id": "IMfEkYM8eMGx"
      },
      "outputs": [],
      "source": [
        "doc_embeddings = {}\n",
        "for i, doc in enumerate(documents):\n",
        "    doc_embeddings[i] = get_embedding(doc)\n",
        "\n",
        "# Save embeddings to avoid regenerating them\n",
        "with open('doc_embeddings.pkl', 'wb') as f:\n",
        "    pickle.dump(doc_embeddings, f)"
      ]
    },
    {
      "cell_type": "code",
      "execution_count": 72,
      "metadata": {
        "id": "vv16xb3KeMGx",
        "outputId": "e095577e-941d-451b-d127-a459055ba621"
      },
      "outputs": [
        {
          "data": {
            "text/plain": [
              "11"
            ]
          },
          "execution_count": 72,
          "metadata": {},
          "output_type": "execute_result"
        }
      ],
      "source": [
        "len(doc_embeddings)"
      ]
    },
    {
      "cell_type": "code",
      "execution_count": 76,
      "metadata": {
        "id": "6dR-1KgIeMGy"
      },
      "outputs": [],
      "source": [
        "def find_relevant_docs(query: str, doc_embeddings: Dict, top_k: int = 8) -> List[str]:\n",
        "    \"\"\"Find most relevant documents for a query.\"\"\"\n",
        "    query_embedding = get_embedding(query)\n",
        "\n",
        "    # Calculate similarities - O(n)\n",
        "    similarities = {}\n",
        "    for idx, doc_embedding in doc_embeddings.items():\n",
        "        similarity = cosine_similarity(query_embedding, doc_embedding)\n",
        "        if similarity > 0:\n",
        "            similarities[idx] = similarity\n",
        "\n",
        "    # Get top k relevant documents\n",
        "    relevant_doc_indices = sorted(similarities.items(), key=lambda x: x[1], reverse=True)[:top_k] # O(nlog n)\n",
        "\n",
        "    # time complexity: O(n log n) + O(n)\n",
        "\n",
        "\n",
        "    return [documents[idx] for idx, _ in relevant_doc_indices]"
      ]
    },
    {
      "cell_type": "code",
      "execution_count": 77,
      "metadata": {
        "id": "6rHAJQmTeMGy",
        "outputId": "fff847b6-6b45-43f9-bf74-e034550c8d3e"
      },
      "outputs": [
        {
          "data": {
            "text/plain": [
              "['Alibek likes to play games',\n",
              " 'Alibek is a student at SDU university and recently finished his bachelors first year study. He currently lives in almaty',\n",
              " 'Kairat arena is a stadium located in Almaty',\n",
              " 'Astana is the capital of Kazakhstan. It is located in the north-central part of the country, on the Ishim River. Other names of the city are Nur-Sultan and Akmola.',\n",
              " 'Adilet is the mentor at Outpeer, he is born in March 30, 1993 in Astana. He currently lives in Madrid, Spain.',\n",
              " 'GPT-4 was released in 2023. It shows improved capabilities in reasoning and creative tasks.',\n",
              " 'Claude is an AI assistant created by Anthropic, known for its helpful and honest responses and amazing performance for coding tasks.',\n",
              " 'OpenAI was founded in 2015. Its mission is to ensure artificial intelligence benefits all of humanity.',\n",
              " 'Witcher 4 is new game in the series where Ciri is the main character. It is expected to be released in 2025.',\n",
              " 'Real Madrid is the best football club in the world. The club won 14 Champions League titles and main stadium is called Santiago Bernabeu, located Avenida de Concha Espina, 1. You can get there by metro line 10, station is Santiago Bernabeu.',\n",
              " 'Witcher 3 is a game about a monster hunter named Geralt of Rivia. It was released in 2015.']"
            ]
          },
          "execution_count": 77,
          "metadata": {},
          "output_type": "execute_result"
        }
      ],
      "source": [
        "find_relevant_docs(\"Give everything related to Alibek\", doc_embeddings, top_k=11)"
      ]
    },
    {
      "cell_type": "code",
      "execution_count": 78,
      "metadata": {
        "id": "kIgAv46veMGy"
      },
      "outputs": [],
      "source": [
        "prompt_template = \"\"\"\n",
        "Use the following context to answer the question. If the answer cannot be found in the context, say `I don't have enough information to answer that.`\n",
        "\n",
        "Context:\n",
        "{context}\n",
        "\n",
        "Question: {query}\n",
        "Answer:\n",
        "\n",
        "\"\"\"\n",
        "\n",
        "def get_rag_response(query: str, relevant_docs: List[str]) -> str:\n",
        "    \"\"\"Get response using RAG approach.\"\"\"\n",
        "    # Create prompt with context\n",
        "    context = \"\\n\".join(relevant_docs)\n",
        "    prompt = prompt_template.format(context=context, query=query)\n",
        "\n",
        "    response = openai_client.chat.completions.create(\n",
        "        model=\"gpt-4o-mini\",\n",
        "        messages=[\n",
        "            {\"role\": \"user\", \"content\": prompt}\n",
        "        ],\n",
        "        temperature=0,\n",
        "    )\n",
        "\n",
        "    return response.choices[0].message.content\n"
      ]
    },
    {
      "cell_type": "code",
      "execution_count": 79,
      "metadata": {
        "id": "4W65cpy-eMGz",
        "outputId": "112b89dd-41b6-43ca-ee3e-f570fa5b7081"
      },
      "outputs": [
        {
          "name": "stdout",
          "output_type": "stream",
          "text": [
            "Relevant documents: ['Kairat arena is a stadium located in Almaty', 'Alibek likes to play games', 'Alibek is a student at SDU university and recently finished his bachelors first year study. He currently lives in almaty', 'Astana is the capital of Kazakhstan. It is located in the north-central part of the country, on the Ishim River. Other names of the city are Nur-Sultan and Akmola.', 'Adilet is the mentor at Outpeer, he is born in March 30, 1993 in Astana. He currently lives in Madrid, Spain.', 'Real Madrid is the best football club in the world. The club won 14 Champions League titles and main stadium is called Santiago Bernabeu, located Avenida de Concha Espina, 1. You can get there by metro line 10, station is Santiago Bernabeu.', 'GPT-4 was released in 2023. It shows improved capabilities in reasoning and creative tasks.', 'OpenAI was founded in 2015. Its mission is to ensure artificial intelligence benefits all of humanity.']\n",
            "\n",
            "Answer: Alibek can visit Kairat arena, which is located in Almaty.\n"
          ]
        }
      ],
      "source": [
        "user_query = \"What stadium Alibek can visit?\"\n",
        "\n",
        "relevant_docs = find_relevant_docs(user_query, doc_embeddings)\n",
        "print(\"Relevant documents:\", relevant_docs)\n",
        "\n",
        "answer = get_rag_response(user_query, relevant_docs)\n",
        "print(\"\\nAnswer:\", answer)\n"
      ]
    },
    {
      "cell_type": "markdown",
      "metadata": {
        "id": "YtpPeECEeMGz"
      },
      "source": [
        "### [Discussion]: let's criticize this design\n",
        "\n",
        "1. What specifications we need here?\n",
        "2. What is important? What metrics?\n",
        "3. What parts of design could be improved?\n",
        "4. What is missing?"
      ]
    },
    {
      "cell_type": "markdown",
      "metadata": {
        "id": "AQspLd4deMGz"
      },
      "source": []
    },
    {
      "cell_type": "markdown",
      "metadata": {
        "id": "69U2UrKqeMGz"
      },
      "source": [
        "### Improvement #1: lets introduce vector database"
      ]
    },
    {
      "cell_type": "markdown",
      "metadata": {
        "id": "M-F2FxxVeMGz"
      },
      "source": [
        "Pinecone -> service\n",
        "\n",
        "PostrgreSQL + PGVector\n",
        "\n",
        "Weaviate\n"
      ]
    },
    {
      "cell_type": "markdown",
      "metadata": {
        "id": "4nFYbWj-eMGz"
      },
      "source": [
        "sqlite analog in vector db is chromadb\n"
      ]
    },
    {
      "cell_type": "code",
      "execution_count": 80,
      "metadata": {
        "id": "G4WTgDWDeMGz"
      },
      "outputs": [],
      "source": [
        "import chromadb\n",
        "from chromadb.utils import embedding_functions"
      ]
    },
    {
      "cell_type": "code",
      "execution_count": 81,
      "metadata": {
        "id": "6S2LNyQBeMGz"
      },
      "outputs": [],
      "source": [
        "chroma_client = chromadb.Client()"
      ]
    },
    {
      "cell_type": "code",
      "execution_count": 82,
      "metadata": {
        "id": "HVM4KQTReMGz",
        "outputId": "a51ff590-984b-400a-a601-af5617f46623"
      },
      "outputs": [
        {
          "name": "stdout",
          "output_type": "stream",
          "text": [
            "Collection already exists. Deleting it...\n",
            "Collection deleted\n"
          ]
        }
      ],
      "source": [
        "if \"documents\" in [collection.name for collection in chroma_client.list_collections()]:\n",
        "    print(\"Collection already exists. Deleting it...\")\n",
        "    chroma_client.delete_collection(\"documents\")\n",
        "    print(\"Collection deleted\")\n",
        "else:\n",
        "    print(\"No collection found\")"
      ]
    },
    {
      "cell_type": "code",
      "execution_count": 83,
      "metadata": {
        "id": "udrz2a1ceMGz"
      },
      "outputs": [],
      "source": [
        "openai_embedding_function = embedding_functions.OpenAIEmbeddingFunction(\n",
        "    api_key=os.getenv(\"OPENAI_API_KEY\"),\n",
        "    model_name=\"text-embedding-3-small\"\n",
        ")\n",
        "\n",
        "collection = chroma_client.create_collection(\n",
        "    name=\"documents\",\n",
        "    embedding_function=openai_embedding_function,\n",
        "    metadata={\"hnsw:space\": \"cosine\"}\n",
        ")"
      ]
    },
    {
      "cell_type": "code",
      "execution_count": 84,
      "metadata": {
        "id": "NY3iMrhDeMGz"
      },
      "outputs": [],
      "source": [
        "collection.add(\n",
        "    documents=documents,\n",
        "    ids=[str(i) for i in range(len(documents))],\n",
        "    metadatas=[{\"year\": 2024, \"source\": \"manual\"} for _ in range(len(documents))]\n",
        ")"
      ]
    },
    {
      "cell_type": "code",
      "execution_count": 85,
      "metadata": {
        "id": "AfnBAAI4eMGz",
        "outputId": "ea2353a4-6456-4ec0-e937-bac710b8816c"
      },
      "outputs": [
        {
          "data": {
            "text/plain": [
              "{'ids': ['0', '1', '2', '3', '4', '5', '6', '7', '8', '9'],\n",
              " 'embeddings': array([[-0.00794725, -0.01631136,  0.03839477, ...,  0.00548344,\n",
              "         -0.00082038, -0.01822469],\n",
              "        [-0.00891934,  0.01599939,  0.06424951, ...,  0.00273375,\n",
              "          0.01734737,  0.01989215],\n",
              "        [ 0.01125212,  0.01812918,  0.01349555, ..., -0.02542559,\n",
              "         -0.00389631,  0.00995917],\n",
              "        ...,\n",
              "        [-0.02045739, -0.04141772,  0.0388024 , ..., -0.01632064,\n",
              "          0.00251788, -0.01975326],\n",
              "        [-0.0255367 , -0.06149566, -0.01169801, ..., -0.02878014,\n",
              "         -0.04004569,  0.00813563],\n",
              "        [-0.05765361, -0.03480198,  0.00484058, ...,  0.00058298,\n",
              "         -0.02378667, -0.01312486]], shape=(10, 1536)),\n",
              " 'documents': ['OpenAI was founded in 2015. Its mission is to ensure artificial intelligence benefits all of humanity.',\n",
              "  'GPT-4 was released in 2023. It shows improved capabilities in reasoning and creative tasks.',\n",
              "  'Claude is an AI assistant created by Anthropic, known for its helpful and honest responses and amazing performance for coding tasks.',\n",
              "  'Witcher 3 is a game about a monster hunter named Geralt of Rivia. It was released in 2015.',\n",
              "  'Witcher 4 is new game in the series where Ciri is the main character. It is expected to be released in 2025.',\n",
              "  'Real Madrid is the best football club in the world. The club won 14 Champions League titles and main stadium is called Santiago Bernabeu, located Avenida de Concha Espina, 1. You can get there by metro line 10, station is Santiago Bernabeu.',\n",
              "  'Astana is the capital of Kazakhstan. It is located in the north-central part of the country, on the Ishim River. Other names of the city are Nur-Sultan and Akmola.',\n",
              "  'Adilet is the mentor at Outpeer, he is born in March 30, 1993 in Astana. He currently lives in Madrid, Spain.',\n",
              "  'Alibek is a student at SDU university and recently finished his bachelors first year study. He currently lives in almaty',\n",
              "  'Kairat arena is a stadium located in Almaty'],\n",
              " 'uris': None,\n",
              " 'included': ['metadatas', 'documents', 'embeddings'],\n",
              " 'data': None,\n",
              " 'metadatas': [{'year': 2024, 'source': 'manual'},\n",
              "  {'source': 'manual', 'year': 2024},\n",
              "  {'source': 'manual', 'year': 2024},\n",
              "  {'source': 'manual', 'year': 2024},\n",
              "  {'source': 'manual', 'year': 2024},\n",
              "  {'year': 2024, 'source': 'manual'},\n",
              "  {'source': 'manual', 'year': 2024},\n",
              "  {'source': 'manual', 'year': 2024},\n",
              "  {'year': 2024, 'source': 'manual'},\n",
              "  {'source': 'manual', 'year': 2024}]}"
            ]
          },
          "execution_count": 85,
          "metadata": {},
          "output_type": "execute_result"
        }
      ],
      "source": [
        "collection.peek()"
      ]
    },
    {
      "cell_type": "code",
      "execution_count": 86,
      "metadata": {
        "id": "2Prk5rbjeMGz",
        "outputId": "6525c808-8205-4333-8909-13a58a55d3e9"
      },
      "outputs": [
        {
          "data": {
            "text/plain": [
              "{'ids': [['0', '2', '1']],\n",
              " 'embeddings': None,\n",
              " 'documents': [['OpenAI was founded in 2015. Its mission is to ensure artificial intelligence benefits all of humanity.',\n",
              "   'Claude is an AI assistant created by Anthropic, known for its helpful and honest responses and amazing performance for coding tasks.',\n",
              "   'GPT-4 was released in 2023. It shows improved capabilities in reasoning and creative tasks.']],\n",
              " 'uris': None,\n",
              " 'included': ['documents', 'metadatas', 'distances'],\n",
              " 'data': None,\n",
              " 'metadatas': [[{'year': 2024, 'source': 'manual'},\n",
              "   {'year': 2024, 'source': 'manual'},\n",
              "   {'source': 'manual', 'year': 2024}]],\n",
              " 'distances': [[0.24819272756576538, 0.6726889610290527, 0.737695574760437]]}"
            ]
          },
          "execution_count": 86,
          "metadata": {},
          "output_type": "execute_result"
        }
      ],
      "source": [
        "results = collection.query(\n",
        "    query_texts=[\"When OpenAI was founded?\"],\n",
        "    n_results=3,\n",
        "    where={\"year\": 2024},\n",
        "    include=[\"documents\", \"metadatas\", \"distances\"]\n",
        ")\n",
        "results"
      ]
    },
    {
      "cell_type": "code",
      "execution_count": 87,
      "metadata": {
        "id": "hWMgB9WaeMGz",
        "outputId": "c768febd-ace7-42f8-eab1-419bc36590f6"
      },
      "outputs": [
        {
          "data": {
            "text/plain": [
              "['OpenAI was founded in 2015. Its mission is to ensure artificial intelligence benefits all of humanity.',\n",
              " 'Claude is an AI assistant created by Anthropic, known for its helpful and honest responses and amazing performance for coding tasks.']"
            ]
          },
          "execution_count": 87,
          "metadata": {},
          "output_type": "execute_result"
        }
      ],
      "source": [
        "def query_documents(query: str, n_results: int = 2) -> List[str]:\n",
        "    results = collection.query(\n",
        "        query_texts=[query],\n",
        "        n_results=n_results\n",
        "    )\n",
        "    return results[\"documents\"][0]\n",
        "\n",
        "query_documents(\"When OpenAI was founded?\")"
      ]
    },
    {
      "cell_type": "code",
      "execution_count": 90,
      "metadata": {
        "id": "OmZJyN5_eMGz",
        "outputId": "7a4a4327-3c4b-400c-d5df-1aa8724f0f04"
      },
      "outputs": [
        {
          "name": "stdout",
          "output_type": "stream",
          "text": [
            "Relevant documents: ['Alibek is a student at SDU university and recently finished his bachelors first year study. He currently lives in almaty', 'Alibek likes to play games', 'Kairat arena is a stadium located in Almaty']\n",
            "\n",
            "Answer: Alibek studies at SDU university.\n"
          ]
        }
      ],
      "source": [
        "user_query = \"Where Alibek studies?\"\n",
        "\n",
        "relevant_docs = query_documents(user_query, n_results=3)\n",
        "print(\"Relevant documents:\", relevant_docs)\n",
        "\n",
        "answer = get_rag_response(user_query, relevant_docs)\n",
        "print(\"\\nAnswer:\", answer)\n"
      ]
    },
    {
      "cell_type": "markdown",
      "metadata": {
        "id": "HEhe_U4ReMGz"
      },
      "source": [
        "### Improvement #2: LangChain"
      ]
    },
    {
      "cell_type": "code",
      "execution_count": 92,
      "metadata": {
        "id": "iBcg1X4eeMG0"
      },
      "outputs": [],
      "source": [
        "from langchain_openai import ChatOpenAI\n",
        "from langchain_community.vectorstores import Chroma\n",
        "from langchain_community.embeddings import OpenAIEmbeddings\n",
        "from langchain.docstore.document import Document\n",
        "from langchain.chains import RetrievalQA\n",
        "from langchain.prompts import PromptTemplate\n",
        "from langchain.memory import ConversationBufferMemory\n",
        "from langchain_core.prompts import ChatPromptTemplate\n",
        "\n",
        "from langchain_core.output_parsers import StrOutputParser\n",
        "from langchain_core.runnables import RunnablePassthrough"
      ]
    },
    {
      "cell_type": "code",
      "execution_count": 101,
      "metadata": {
        "id": "H14HcasleMG0",
        "outputId": "6bf24862-eff5-4bdf-9200-572122b94513"
      },
      "outputs": [
        {
          "data": {
            "text/plain": [
              "VectorStoreRetriever(tags=['Chroma', 'OpenAIEmbeddings'], vectorstore=<langchain_community.vectorstores.chroma.Chroma object at 0x75956e7f9a10>, search_kwargs={'k': 5})"
            ]
          },
          "execution_count": 101,
          "metadata": {},
          "output_type": "execute_result"
        }
      ],
      "source": [
        "try:\n",
        "    chroma_client.delete_collection(\"my_documents\")\n",
        "except Exception as e:\n",
        "    print(e)\n",
        "    pass\n",
        "\n",
        "embeddings = OpenAIEmbeddings(model=\"text-embedding-3-small\")\n",
        "vectorstore = Chroma(\n",
        "    embedding_function=embeddings,\n",
        "    collection_name=\"my_documents\",\n",
        ")\n",
        "retriever = vectorstore.as_retriever(\n",
        "    search_type=\"similarity\",\n",
        "    search_kwargs={\"k\": 5}\n",
        ")\n",
        "retriever\n"
      ]
    },
    {
      "cell_type": "code",
      "execution_count": 102,
      "metadata": {
        "id": "Om4LLt50eMG0",
        "outputId": "486ad144-f9b6-49fb-ee05-0c8bacbed495"
      },
      "outputs": [
        {
          "data": {
            "text/plain": [
              "[]"
            ]
          },
          "execution_count": 102,
          "metadata": {},
          "output_type": "execute_result"
        }
      ],
      "source": [
        "retriever.get_relevant_documents(\"When OpenAI was founded?\")"
      ]
    },
    {
      "cell_type": "code",
      "execution_count": 103,
      "metadata": {
        "id": "FvpcTvNaeMG0",
        "outputId": "81547a9f-72d7-4eba-aedc-2bcdfab62add"
      },
      "outputs": [
        {
          "data": {
            "text/plain": [
              "['f4296045-82c0-4aa4-8e73-daa87ccfc03f',\n",
              " 'aac6cf0a-0ca4-4f7e-b964-5c3ed0c1759e',\n",
              " 'f05ddfce-6717-4c11-9c0c-1ea933ed5c22',\n",
              " 'a6658153-8267-4f84-bea1-c3c46cd8de2a',\n",
              " 'd3cedad4-e2cc-448f-9f2e-35c2acb92afa',\n",
              " '8ce3aa8d-e985-4363-8640-c28e81a74021',\n",
              " '1dce928d-c326-42b4-972a-d578f4e09349',\n",
              " '159bccb2-2955-4f47-8a93-3bda18562ea7',\n",
              " '0b5b9780-c5e9-492b-9496-95317c94382e',\n",
              " '4b3a0862-fc52-4444-862e-27f37501287b',\n",
              " 'dbddaa5b-2c9f-4259-851a-b715ef95a164']"
            ]
          },
          "execution_count": 103,
          "metadata": {},
          "output_type": "execute_result"
        }
      ],
      "source": [
        "docs = [\n",
        "    Document(\n",
        "        page_content=text,\n",
        "        metadata={\"source\": \"manual\", \"year\": 2024}\n",
        "    )\n",
        "    for text in documents\n",
        "]\n",
        "vectorstore.add_documents(docs)"
      ]
    },
    {
      "cell_type": "code",
      "execution_count": 104,
      "metadata": {
        "id": "kbTdCcvZeMG0",
        "outputId": "ef83a50f-6710-4aeb-814a-24cc7c02d8e7"
      },
      "outputs": [
        {
          "data": {
            "text/plain": [
              "[Document(metadata={'source': 'manual', 'year': 2024}, page_content='Kairat arena is a stadium located in Almaty'),\n",
              " Document(metadata={'year': 2024, 'source': 'manual'}, page_content='Adilet is the mentor at Outpeer, he is born in March 30, 1993 in Astana. He currently lives in Madrid, Spain.'),\n",
              " Document(metadata={'source': 'manual', 'year': 2024}, page_content='Real Madrid is the best football club in the world. The club won 14 Champions League titles and main stadium is called Santiago Bernabeu, located Avenida de Concha Espina, 1. You can get there by metro line 10, station is Santiago Bernabeu.'),\n",
              " Document(metadata={'source': 'manual', 'year': 2024}, page_content='Alibek likes to play games'),\n",
              " Document(metadata={'year': 2024, 'source': 'manual'}, page_content='Alibek is a student at SDU university and recently finished his bachelors first year study. He currently lives in almaty')]"
            ]
          },
          "execution_count": 104,
          "metadata": {},
          "output_type": "execute_result"
        }
      ],
      "source": [
        "retriever.get_relevant_documents(\"What stadium can Adilet visit?\")"
      ]
    },
    {
      "cell_type": "code",
      "execution_count": 105,
      "metadata": {
        "id": "bglBr5_DeMG0"
      },
      "outputs": [],
      "source": [
        "\n",
        "PROMPT_TEMPLATE = \"\"\"\n",
        "Use the following context to answer the question.\n",
        "If the answer cannot be found in the context, say `Why do you ask me that?`\n",
        "Add \"Bro\"\n",
        "\n",
        "Context:\n",
        "{context}\n",
        "\n",
        "Question: {question}\n",
        "Answer:\n",
        "\"\"\"\n",
        "\n",
        "PROMPT = PromptTemplate(\n",
        "    template=PROMPT_TEMPLATE,\n",
        "    input_variables=[\"context\", \"question\"]\n",
        ")\n",
        "\n",
        "qa_chain = RetrievalQA.from_chain_type(\n",
        "    llm=ChatOpenAI(model=\"gpt-4o-mini\", temperature=0),\n",
        "    retriever=retriever,\n",
        "    chain_type=\"stuff\", # stuff, map_reduce, refine\n",
        "    return_source_documents=True,\n",
        "    chain_type_kwargs={\"prompt\": PROMPT}\n",
        ")"
      ]
    },
    {
      "cell_type": "code",
      "execution_count": 111,
      "metadata": {
        "id": "gzI6jx1yeMG1",
        "outputId": "c6cda517-1cb8-440e-e739-465b1a96b3a1"
      },
      "outputs": [
        {
          "data": {
            "text/plain": [
              "{'query': 'Can Adilet visit Santiago Bernabeu?',\n",
              " 'result': 'Why do you ask me that? Bro',\n",
              " 'source_documents': [Document(metadata={'year': 2024, 'source': 'manual'}, page_content='Real Madrid is the best football club in the world. The club won 14 Champions League titles and main stadium is called Santiago Bernabeu, located Avenida de Concha Espina, 1. You can get there by metro line 10, station is Santiago Bernabeu.'),\n",
              "  Document(metadata={'year': 2024, 'source': 'manual'}, page_content='Adilet is the mentor at Outpeer, he is born in March 30, 1993 in Astana. He currently lives in Madrid, Spain.'),\n",
              "  Document(metadata={'year': 2024, 'source': 'manual'}, page_content='Kairat arena is a stadium located in Almaty'),\n",
              "  Document(metadata={'source': 'manual', 'year': 2024}, page_content='Alibek likes to play games'),\n",
              "  Document(metadata={'year': 2024, 'source': 'manual'}, page_content='Alibek is a student at SDU university and recently finished his bachelors first year study. He currently lives in almaty')]}"
            ]
          },
          "execution_count": 111,
          "metadata": {},
          "output_type": "execute_result"
        }
      ],
      "source": [
        "qa_chain({\"query\": \"Can Adilet visit Santiago Bernabeu?\"})"
      ]
    },
    {
      "cell_type": "code",
      "execution_count": 113,
      "metadata": {
        "id": "Mn-ApuRweMG1",
        "outputId": "6530bbe3-9df6-48bd-b0fb-b89148b7c3a0"
      },
      "outputs": [],
      "source": [
        "memory = ConversationBufferMemory(\n",
        "    memory_key=\"chat_history\",\n",
        "    return_messages=True\n",
        ")\n",
        "\n",
        "qa_chain_with_memory = RetrievalQA.from_chain_type(\n",
        "    llm=ChatOpenAI(model=\"gpt-4o-mini\", temperature=0.2),\n",
        "    chain_type=\"stuff\",\n",
        "    retriever=retriever,\n",
        "    memory=memory\n",
        ")"
      ]
    },
    {
      "cell_type": "code",
      "execution_count": 116,
      "metadata": {
        "id": "wdCQxTC7eMG1",
        "outputId": "0e05b831-8b8a-4e7a-9184-d7feee4b1b50"
      },
      "outputs": [
        {
          "data": {
            "text/plain": [
              "{'query': 'Can Adilet vist Santiago Bernabeu',\n",
              " 'chat_history': [HumanMessage(content='Can Adilet vist Santiago Bernabeu', additional_kwargs={}, response_metadata={}),\n",
              "  AIMessage(content='Yes, Adilet can visit Santiago Bernabeu since he currently lives in Madrid, Spain.', additional_kwargs={}, response_metadata={}),\n",
              "  HumanMessage(content='Can Adilet vist Santiago Bernabeu', additional_kwargs={}, response_metadata={}),\n",
              "  AIMessage(content='Yes, Adilet can visit Santiago Bernabeu since he currently lives in Madrid, Spain.', additional_kwargs={}, response_metadata={}),\n",
              "  HumanMessage(content='Can Adilet vist Santiago Bernabeu', additional_kwargs={}, response_metadata={}),\n",
              "  AIMessage(content='Yes, Adilet can visit Santiago Bernabeu since he currently lives in Madrid, Spain.', additional_kwargs={}, response_metadata={})],\n",
              " 'result': 'Yes, Adilet can visit Santiago Bernabeu since he currently lives in Madrid, Spain.'}"
            ]
          },
          "execution_count": 116,
          "metadata": {},
          "output_type": "execute_result"
        }
      ],
      "source": [
        "qa_chain_with_memory({\"query\": \"Can Adilet vist Santiago Bernabeu\"})"
      ]
    },
    {
      "cell_type": "code",
      "execution_count": 117,
      "metadata": {
        "id": "jvboKMgPeMG1",
        "outputId": "5ac57af3-05b5-430f-ef31-55e77abdf33f"
      },
      "outputs": [
        {
          "data": {
            "text/plain": [
              "{'query': 'What stadium can Adilet visit?',\n",
              " 'chat_history': [HumanMessage(content='Can Adilet vist Santiago Bernabeu', additional_kwargs={}, response_metadata={}),\n",
              "  AIMessage(content='Yes, Adilet can visit Santiago Bernabeu since he currently lives in Madrid, Spain.', additional_kwargs={}, response_metadata={}),\n",
              "  HumanMessage(content='Can Adilet vist Santiago Bernabeu', additional_kwargs={}, response_metadata={}),\n",
              "  AIMessage(content='Yes, Adilet can visit Santiago Bernabeu since he currently lives in Madrid, Spain.', additional_kwargs={}, response_metadata={}),\n",
              "  HumanMessage(content='Can Adilet vist Santiago Bernabeu', additional_kwargs={}, response_metadata={}),\n",
              "  AIMessage(content='Yes, Adilet can visit Santiago Bernabeu since he currently lives in Madrid, Spain.', additional_kwargs={}, response_metadata={}),\n",
              "  HumanMessage(content='What stadium can Adilet visit?', additional_kwargs={}, response_metadata={}),\n",
              "  AIMessage(content='Adilet can visit the Kairat arena in Almaty, as it is located there.', additional_kwargs={}, response_metadata={})],\n",
              " 'result': 'Adilet can visit the Kairat arena in Almaty, as it is located there.'}"
            ]
          },
          "execution_count": 117,
          "metadata": {},
          "output_type": "execute_result"
        }
      ],
      "source": [
        "qa_chain_with_memory({\"query\": \"What stadium can Adilet visit?\"})"
      ]
    },
    {
      "cell_type": "code",
      "execution_count": 54,
      "metadata": {
        "id": "fALIuaqQeMG1",
        "outputId": "dd6a32d9-248e-4686-aa86-02b472137d05"
      },
      "outputs": [
        {
          "name": "stdout",
          "output_type": "stream",
          "text": [
            "Adilet can visit the Santiago Bernabeu stadium, which is the home of Real Madrid, located in Madrid, Spain. This stadium is renowned as one of the best in the world and is accessible via metro line 10 at the Santiago Bernabeu station [2]. \n",
            "\n",
            "Sources:\n",
            "[1] Adilet is the mentor at Outpeer, he is born in March 30, 1993 in Astana. He currently lives in Madrid, Spain.  \n",
            "[2] Real Madrid is the best football club in the world. The club won 14 Champions League titles and main stadium is called Santiago Bernabeu, located Avenida de Concha Espina, 1. You can get there by metro line 10, station is Santiago Bernabeu.  \n",
            "[3] Astana is the capital of Kazakhstan. It is located in the north-central part of the country, on the Ishim River. Other names of the city are Nur-Sultan and Akmola.\n"
          ]
        }
      ],
      "source": [
        "# Format documents with reference numbers\n",
        "def format_docs(docs):\n",
        "    return \"\\n\".join(f\"[{i+1}] {doc.page_content}\" for i, doc in enumerate(docs))\n",
        "\n",
        "prompt = ChatPromptTemplate.from_template(\"\"\"\n",
        "Answer the question based on the following context.\n",
        "Include reference numbers [1], [2] etc. to cite your sources. At the end of the answer, include the sources themselves.\n",
        "\n",
        "Context:\n",
        "{context}\n",
        "\n",
        "Question: {question}\n",
        "\n",
        "Answer with sources:\"\"\")\n",
        "\n",
        "llm = ChatOpenAI(model=\"gpt-4o-mini\", temperature=0)\n",
        "chain = (\n",
        "    {\n",
        "        \"context\": retriever | format_docs,\n",
        "        \"question\": RunnablePassthrough()\n",
        "    }\n",
        "    | prompt\n",
        "    | llm\n",
        "    | StrOutputParser()\n",
        ")\n",
        "\n",
        "response = chain.invoke(\"What stadium can Adilet visit?\")\n",
        "print(response)"
      ]
    },
    {
      "cell_type": "markdown",
      "metadata": {
        "id": "1rmpgPKDeMG5"
      },
      "source": [
        "# Formats of Files?\n",
        "\n",
        "1. Discussion\n",
        "2. Design exercise: YouTube video searcher"
      ]
    },
    {
      "cell_type": "markdown",
      "metadata": {
        "id": "qxDnLZWNeMG5"
      },
      "source": [
        "# OpenAI RAG"
      ]
    }
  ],
  "metadata": {
    "colab": {
      "provenance": []
    },
    "kernelspec": {
      "display_name": ".venv",
      "language": "python",
      "name": "python3"
    },
    "language_info": {
      "codemirror_mode": {
        "name": "ipython",
        "version": 3
      },
      "file_extension": ".py",
      "mimetype": "text/x-python",
      "name": "python",
      "nbconvert_exporter": "python",
      "pygments_lexer": "ipython3",
      "version": "3.11.0"
    }
  },
  "nbformat": 4,
  "nbformat_minor": 0
}
